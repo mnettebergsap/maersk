{
 "cells": [
  {
   "cell_type": "markdown",
   "metadata": {},
   "source": [
    "# Python HANA ML APL"
   ]
  },
  {
   "cell_type": "markdown",
   "metadata": {},
   "source": [
    "<div class=\"alert alert-block alert-info\">\n",
    "<b>Forecasting daily cashflow.</b> <br>\n",
    "</div>"
   ]
  },
  {
   "cell_type": "code",
   "execution_count": null,
   "metadata": {},
   "outputs": [],
   "source": [
    "%run ./02-setup.ipynb"
   ]
  },
  {
   "cell_type": "markdown",
   "metadata": {
    "slideshow": {
     "slide_type": "fragment"
    }
   },
   "source": [
    "### Create an HANA Dataframe for the actual series"
   ]
  },
  {
   "cell_type": "code",
   "execution_count": null,
   "metadata": {},
   "outputs": [],
   "source": [
    "sql_cmd = 'SELECT \"Date\", \"Cash\", \"MondayMonthInd\", \"FridayMonthInd\" FROM \"CASHFLOW\"'\n",
    "series_in = hdf.DataFrame(conn, sql_cmd)\n",
    "\n",
    "series_in.head(5).collect()"
   ]
  },
  {
   "cell_type": "markdown",
   "metadata": {},
   "source": [
    "### Fit & Predict with APL"
   ]
  },
  {
   "cell_type": "code",
   "execution_count": null,
   "metadata": {},
   "outputs": [],
   "source": [
    "from hana_ml.algorithms.apl.time_series import AutoTimeSeries\n",
    "apl_model = AutoTimeSeries(time_column_name= 'Date', target= 'Cash', horizon= 21)\n",
    "series_out = apl_model.fit_predict(data = series_in, build_report=True)"
   ]
  },
  {
   "cell_type": "code",
   "execution_count": null,
   "metadata": {},
   "outputs": [],
   "source": [
    "df = series_out.select(series_out.columns[0:5]).collect()\n",
    "dict = {'ACTUAL': 'Actual', \n",
    "        'PREDICTED_1': 'Forecast', \n",
    "        'LOWER_INT_95PCT': 'Lower Limit', \n",
    "        'UPPER_INT_95PCT': 'Upper Limit' }\n",
    "df.rename(columns=dict, inplace=True)\n",
    "df"
   ]
  },
  {
   "cell_type": "markdown",
   "metadata": {},
   "source": [
    "##### Reports"
   ]
  },
  {
   "cell_type": "code",
   "execution_count": null,
   "metadata": {},
   "outputs": [],
   "source": [
    "apl_model.generate_html_report('Cash_Report')\n",
    "apl_model.generate_notebook_iframe_report()"
   ]
  },
  {
   "cell_type": "markdown",
   "metadata": {},
   "source": [
    "##### Target Statistics"
   ]
  },
  {
   "cell_type": "code",
   "execution_count": null,
   "metadata": {},
   "outputs": [],
   "source": [
    "df = apl_model.get_debrief_report('ContinuousTarget_Statistics').collect()\n",
    "df.drop('Oid', axis=1, inplace=True)\n",
    "df.style.hide(axis='index')"
   ]
  }
 ],
 "metadata": {
  "kernelspec": {
   "display_name": "Python 3",
   "language": "python",
   "name": "python3"
  },
  "language_info": {
   "codemirror_mode": {
    "name": "ipython",
    "version": 3
   },
   "file_extension": ".py",
   "mimetype": "text/x-python",
   "name": "python",
   "nbconvert_exporter": "python",
   "pygments_lexer": "ipython3",
   "version": "3.12.9"
  }
 },
 "nbformat": 4,
 "nbformat_minor": 4
}
