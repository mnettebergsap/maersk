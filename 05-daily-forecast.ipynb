{
 "cells": [
  {
   "cell_type": "markdown",
   "metadata": {},
   "source": [
    "#### Exercise 05: Timeseries tutorial / APL\n",
    "\n",
    "The APL library originates from the acquisition of KXEN and their Automated Machine Learning technology. In many ways, the two native Machine Learning libraries in HANA - PAL & APL are comparable in relation to cases they can be used for. The main difference between PAL & APL, is using PAL components is a manual process, and requires, what we normally refer to as Data Science skills, but also gives freedom to select, adjust and finetune each individual algorithm. APL, on the other hand, is based on automation, and best practice processes, which limits the freedom to adjust - that's is taken care of by the APL engine. This also means that Machine Learning based on APL is not only for Data Scientists, but also Business Analysts.\n",
    "\n",
    "Below is the generic Machine Learning process illustrated, and how APL has automated many of the steps, especially the more complex ones.\n",
    "\n",
    "<table>\n",
    "    <img src=\"./images/ML_Process.png\",width=60,height=30>\n",
    "</table>\n",
    "\n",
    "Let's quickly go through the process, explaining the different parts, and how APL supports them:\n",
    "- Data Connection: We need to access the relevant data, and beside tables and views, APL can also use HANA DataFrames\n",
    "- Feature Engineering: Feature Engineering is about preparing the data; deriving new features, handle missing values, reduce the influence of outliers, grouping “similar” values (binning). APL handles automatically missing values, outliers, and binning.\n",
    "- Variable Reduction & Sampling: Not all variables have an influence, therefore sometimes we eliminate them before we train a model to speed up the training. As part of the training process, APL will automatically eliminate variables that don't have an influence or are covered by other variables (auto-correlation). Sampling is a very important part of the Machine Learning process, it splits data up into a training part and a test, and sometimes also a validation part. The test and validation dataset measures the accuracy and how reusable (generalized) the model is.\n",
    "- Machine Learning Training: This is the core part, where we want to train a selected algorithm based on the training data, see if we can identify a reusable pattern. Normally you have multiple algorithms to choose from, and when chosen, the parameters have to be adjusted. Based on the scenario, APL will use a predefined algorithm, with preset parameters.\n",
    "- Model Validation: When the model is trained, the test and validation dataset are used to measure the accuracy and how reusable (generalized) the model is. APL does this automatically\n",
    "- Model interpretation: Sometimes we would like to understand the pattern of the trained model, and for some algorithms, this is possible, and for some not – so something you should be aware of when selecting which algorithm to use. APL uses an algorithm, that explains the pattern in an easily understandable way\n",
    "- Apply Model: This last part is where all the prior work materializes into value. Applying the model, normally is embedding a trained model to enhance an existing business process. For most of the scenarios, APL can produce the trained model – pattern, as SQL code – easy to consume and embed into a business process.\n",
    "\n",
    "\n",
    "Let's start by creating the connection to SAP HANA Cloud\n"
   ]
  },
  {
   "cell_type": "code",
   "execution_count": null,
   "metadata": {},
   "outputs": [],
   "source": [
    "%run ./02-setup.ipynb"
   ]
  },
  {
   "cell_type": "markdown",
   "metadata": {
    "slideshow": {
     "slide_type": "fragment"
    }
   },
   "source": [
    "### Create an HANA Dataframe for the actual series"
   ]
  },
  {
   "cell_type": "code",
   "execution_count": null,
   "metadata": {},
   "outputs": [],
   "source": [
    "sql_cmd = 'SELECT \"Date\", \"Cash\", \"MondayMonthInd\", \"FridayMonthInd\" FROM \"CASHFLOW\"'\n",
    "series_in = hdf.DataFrame(conn, sql_cmd)\n",
    "\n",
    "series_in.head(5).collect()"
   ]
  },
  {
   "cell_type": "markdown",
   "metadata": {},
   "source": [
    "### Fit & Predict with APL"
   ]
  },
  {
   "cell_type": "code",
   "execution_count": null,
   "metadata": {},
   "outputs": [],
   "source": [
    "from hana_ml.algorithms.apl.time_series import AutoTimeSeries\n",
    "apl_model = AutoTimeSeries(time_column_name= 'Date', target= 'Cash', horizon= 21)\n",
    "series_out = apl_model.fit_predict(data = series_in, build_report=True)"
   ]
  },
  {
   "cell_type": "code",
   "execution_count": null,
   "metadata": {},
   "outputs": [],
   "source": [
    "df = series_out.select(series_out.columns[0:5]).collect()\n",
    "dict = {'ACTUAL': 'Actual', \n",
    "        'PREDICTED_1': 'Forecast', \n",
    "        'LOWER_INT_95PCT': 'Lower Limit', \n",
    "        'UPPER_INT_95PCT': 'Upper Limit' }\n",
    "df.rename(columns=dict, inplace=True)\n",
    "df"
   ]
  },
  {
   "cell_type": "markdown",
   "metadata": {},
   "source": [
    "##### Reports"
   ]
  },
  {
   "cell_type": "code",
   "execution_count": null,
   "metadata": {},
   "outputs": [],
   "source": [
    "apl_model.generate_html_report('Cash_Report')\n",
    "apl_model.generate_notebook_iframe_report()"
   ]
  },
  {
   "cell_type": "markdown",
   "metadata": {},
   "source": [
    "##### Target Statistics"
   ]
  },
  {
   "cell_type": "code",
   "execution_count": null,
   "metadata": {},
   "outputs": [],
   "source": [
    "df = apl_model.get_debrief_report('ContinuousTarget_Statistics').collect()\n",
    "df.drop('Oid', axis=1, inplace=True)\n",
    "df.style.hide(axis='index')"
   ]
  }
 ],
 "metadata": {
  "kernelspec": {
   "display_name": "Python 3",
   "language": "python",
   "name": "python3"
  },
  "language_info": {
   "codemirror_mode": {
    "name": "ipython",
    "version": 3
   },
   "file_extension": ".py",
   "mimetype": "text/x-python",
   "name": "python",
   "nbconvert_exporter": "python",
   "pygments_lexer": "ipython3",
   "version": "3.12.9"
  }
 },
 "nbformat": 4,
 "nbformat_minor": 4
}
