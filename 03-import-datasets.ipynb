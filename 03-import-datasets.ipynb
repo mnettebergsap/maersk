{
 "cells": [
  {
   "cell_type": "markdown",
   "metadata": {},
   "source": [
    "### Exercise 03: Import required datasets, csv-files, into SAP HANA Cloud."
   ]
  },
  {
   "cell_type": "markdown",
   "metadata": {},
   "source": [
    "#### Let's establish the connection to SAP HANA Cloud."
   ]
  },
  {
   "cell_type": "code",
   "execution_count": null,
   "metadata": {},
   "outputs": [],
   "source": [
    "%run ./02-setup.ipynb"
   ]
  },
  {
   "cell_type": "markdown",
   "metadata": {},
   "source": [
    "#### First dataset represents daily cashflows. Each row contains a specific date and date related informatthe cashflow for that date. We want to use it for classification. We want to use the dataset for forecasting future daily cashflows.\n",
    "\n",
    "#### Let's strart by reading the csv-file into a pandas dataframe."
   ]
  },
  {
   "cell_type": "code",
   "execution_count": null,
   "metadata": {},
   "outputs": [],
   "source": [
    "# Read the tab-delimited file\n",
    "df_cash = pd.read_csv('./data/CashFlows.txt', delimiter='\\t', thousands='.', header=0)\n",
    "\n",
    "# Display column names\n",
    "print('Columns: ', df_cash.columns)"
   ]
  },
  {
   "cell_type": "code",
   "execution_count": null,
   "metadata": {},
   "outputs": [],
   "source": [
    "# create hana dataframe/DB table from pandas dataframe\n",
    "hdf_cash = create_dataframe_from_pandas(\n",
    "        conn,\n",
    "        df_cash,\n",
    "        table_name=\"CASHFLOW\",\n",
    "        force=True,\n",
    "        replace=True,\n",
    "        drop_exist_tab=True,\n",
    "        table_structure={   \"Date\" : \"TIMESTAMP\", \"WorkingDaysIndices\" : \"INTEGER\", \"ReverseWorkingDaysIndices\" : \"INTEGER\",\n",
    "                            \"MondayMonthInd\" : \"INTEGER\", \"TuesdayMonthInd\" : \"INTEGER\", \"WednesdayMonthInd\" : \"INTEGER\",\n",
    "                            \"ThursdayMonthInd\" : \"INTEGER\", \"FridayMonthInd\" : \"INTEGER\", \"BeforeLastMonday\" : \"INTEGER\", \n",
    "                            \"LastMonday\" : \"INTEGER\", \"BeforeLastTuesday\" : \"INTEGER\", \"LastTuesday\" : \"INTEGER\",\n",
    "                            \"BeforeLastWednesday\" : \"INTEGER\", \"LastWednesday\" : \"INTEGER\", \"BeforeLastThursday\" : \"INTEGER\", \n",
    "                            \"LastThursday\" : \"INTEGER\", \"BeforeLastFriday\" : \"INTEGER\", \"LastFriday\" : \"INTEGER\", \n",
    "                            \"Last5WDaysInd\" : \"INTEGER\", \"Last5WDays\" : \"INTEGER\", \"Last4WDaysInd\" : \"INTEGER\", \"Last4WDays\" : \"INTEGER\", \n",
    "                            \"LastWMonth\" : \"INTEGER\", \"BeforeLastWMonth\" : \"INTEGER\", \"Cash\" : \"DOUBLE\"}\n",
    ")\n",
    "\n",
    "hdf_cash.head(5).collect()"
   ]
  },
  {
   "cell_type": "code",
   "execution_count": null,
   "metadata": {},
   "outputs": [],
   "source": [
    "#from hana_ml import dataframe as hd\n",
    "sql_cmd = 'SELECT \"Date\", \"Cash\", \"MondayMonthInd\", \"FridayMonthInd\" FROM \"CASHFLOW\"'\n",
    "series_in = hdf.DataFrame(conn, sql_cmd)\n",
    "\n",
    "series_in.head(5).collect()"
   ]
  },
  {
   "cell_type": "markdown",
   "metadata": {},
   "source": [
    "#### Second dataset represents a US census dataset. Each row contains socio-demographic information for a person. We want to use it for classification.\n",
    "\n",
    "#### Let's strart by reading the csv-file into a pandas dataframe."
   ]
  },
  {
   "cell_type": "code",
   "execution_count": null,
   "metadata": {},
   "outputs": [],
   "source": [
    "# Read the tab-delimited file\n",
    "df_census = pd.read_csv('./data/Census.csv', delimiter=',', header=0)\n",
    "\n",
    "df_census['id'] = df_census.index\n",
    "\n",
    "# Display column names\n",
    "print('Columns: ', df_census.columns)"
   ]
  },
  {
   "cell_type": "code",
   "execution_count": null,
   "metadata": {},
   "outputs": [],
   "source": [
    "# create hana dataframe/DB table from pandas dataframe\n",
    "hdf_census = create_dataframe_from_pandas(\n",
    "        conn,\n",
    "        df_census,\n",
    "        table_name=\"CENSUS\",\n",
    "        force=True,\n",
    "        replace=True,\n",
    "        drop_exist_tab=True,\n",
    "        table_structure={   \"id\" : \"INTEGER\", \"age\" : \"INTEGER\", \"workclass\" : \"NVARCHAR(64)\", \"fnlwgt\" : \"INTEGER\", \n",
    "                            \"education\" : \"NVARCHAR(64)\", \"education-num\" : \"INTEGER\",\n",
    "                            \"marital-status\" : \"NVARCHAR(64)\", \"occupation\" : \"NVARCHAR(64)\", \n",
    "                            \"relationship\" : \"NVARCHAR(64)\", \"race\" : \"NVARCHAR(64)\", \"sex\" : \"NVARCHAR(64)\",\n",
    "                            \"capital-gain\" : \"INTEGER\", \"capital-loss\" : \"INTEGER\", 'hours-per-week' : \"INTEGER\", \n",
    "                            \"native-country\" : \"NVARCHAR(64)\", \"class\" : \"INTEGER\"}\n",
    ")\n",
    "\n",
    "hdf_census.head(5).collect()"
   ]
  },
  {
   "cell_type": "markdown",
   "metadata": {},
   "source": [
    "#### Third dataset represents shampoo sales. Each row contains shampoo sales for a specific date. We want to use it for forecasting future sales.\n",
    "\n",
    "#### Let's strart by reading the csv-file into a pandas dataframe."
   ]
  },
  {
   "cell_type": "code",
   "execution_count": null,
   "metadata": {},
   "outputs": [],
   "source": [
    "# Read the tab-delimited file\n",
    "column_names = [\"ID\", \"SALES\"]\n",
    "\n",
    "df_shampoo = pd.read_csv('./data/Shampoo.csv', \n",
    "                         delimiter=',', decimal='.', names=column_names)\n",
    "\n",
    "\n",
    "# Display column names\n",
    "print('Columns: ', df_shampoo.columns)\n",
    "\n",
    "df_shampoo.head(5)"
   ]
  },
  {
   "cell_type": "code",
   "execution_count": null,
   "metadata": {},
   "outputs": [],
   "source": [
    "# create hana dataframe/DB table from pandas dataframe\n",
    "hdf_shampoo = create_dataframe_from_pandas(\n",
    "        conn,\n",
    "        df_shampoo,\n",
    "        table_name=\"SHAMPOO\",\n",
    "        force=True,\n",
    "        replace=True,\n",
    "        drop_exist_tab=True,\n",
    "        table_structure={   \"ID\" : \"INTEGER\", \"SALES\" : \"DOUBLE\"}\n",
    ")\n",
    "\n",
    "hdf_shampoo.head(5).collect()"
   ]
  },
  {
   "cell_type": "markdown",
   "metadata": {},
   "source": [
    "#### Fourth dataset represents results from a marketing campaign for a bank. Each row contains information for a bank-customer incl. if the person responded yes or no to the offer. We want to use it for classification.\n",
    "\n",
    "#### Let's strart by reading the csv-file into a pandas dataframe."
   ]
  },
  {
   "cell_type": "code",
   "execution_count": null,
   "metadata": {},
   "outputs": [],
   "source": [
    "# Read the tab-delimited file\n",
    "df_bank = pd.read_csv('./data/Bank.csv', delimiter=';', header=0)\n",
    "\n",
    "df_bank.columns = [col.upper() for col in df_bank.columns]\n",
    "\n",
    "# Display column names\n",
    "print('Columns: ', df_bank.columns)"
   ]
  },
  {
   "cell_type": "code",
   "execution_count": null,
   "metadata": {},
   "outputs": [],
   "source": [
    "# create hana dataframe/DB table from pandas dataframe\n",
    "hdf_bank = create_dataframe_from_pandas(\n",
    "        conn,\n",
    "        df_bank,\n",
    "        table_name=\"BANK\",\n",
    "        force=True,\n",
    "        replace=True,\n",
    "        drop_exist_tab=True,\n",
    "        table_structure={   \"age\" : \"INTEGER\", \"job\" : \"NVARCHAR(64)\", \"marital\" : \"NVARCHAR(64)\", \"education\" : \"NVARCHAR(64)\", \n",
    "                            \"default\" : \"NVARCHAR(64)\", \"housing\" : \"NVARCHAR(64)\", \"loan\" : \"NVARCHAR(64)\", \n",
    "                            \"contact\" : \"NVARCHAR(64)\", \"month\" : \"NVARCHAR(64)\", \"day_of_week\" : \"NVARCHAR(64)\", \n",
    "                            \"duration\" : \"INTEGER\", \"campaign\" : \"INTEGER\", \"pdays\" : \"INTEGER\", \n",
    "                            \"previous\" : \"INTEGER\",  \"poutcome\" : \"NVARCHAR(64)\", \"cons.price.idx\" : \"INTEGER\", \n",
    "                            \"cons.conf.idx\" : \"INTEGER\", \"euribor3m\" : \"INTEGER\", \"nr.employed\" : \"INTEGER\", \"y\" : \"NVARCHAR(64)\"\n",
    "                            }\n",
    ")\n",
    "\n",
    "hdf_bank.head(5).collect()"
   ]
  },
  {
   "cell_type": "markdown",
   "metadata": {},
   "source": [
    "#### Fifth dataset represents daily gas-prices. Each row contains the daily gas-price. We want to use it for forecasting future gas prices.\n",
    "\n",
    "#### Let's strart by reading the csv-file into a pandas dataframe."
   ]
  },
  {
   "cell_type": "code",
   "execution_count": null,
   "metadata": {},
   "outputs": [],
   "source": [
    "# Read the tab-delimited file\n",
    "df_fuelprices = pd.read_csv('./data/GasPrices.csv', \n",
    "                            delimiter=';', decimal='.', header=0)\n",
    "\n",
    "# Display column names\n",
    "print('Columns: ', df_fuelprices.columns)"
   ]
  },
  {
   "cell_type": "code",
   "execution_count": null,
   "metadata": {},
   "outputs": [],
   "source": [
    "hdf_fuelprices = create_dataframe_from_pandas(\n",
    "        conn, \n",
    "        df_fuelprices,\n",
    "        table_name=\"FUEL_PRICES\",\n",
    "        force=True,\n",
    "        replace=True,\n",
    "        drop_exist_tab=True,\n",
    "        table_structure={\"date\": \"TIMESTAMP\", \"station_uuid\": \"NVARCHAR(5000)\", \n",
    "                        \"diesel\": \"DOUBLE\", \"e5\": \"DOUBLE\", \"e10\": \"DOUBLE\",\n",
    "                        \"dieselchange\" : \"INTEGER\",\"e5change\" : \"INTEGER\",\"e10change\" : \"INTEGER\"\n",
    "                        }\n",
    ")\n",
    "\n",
    "hdf_fuelprices.head(5).collect()"
   ]
  }
 ],
 "metadata": {
  "kernelspec": {
   "display_name": "Python 3",
   "language": "python",
   "name": "python3"
  },
  "language_info": {
   "codemirror_mode": {
    "name": "ipython",
    "version": 3
   },
   "file_extension": ".py",
   "mimetype": "text/x-python",
   "name": "python",
   "nbconvert_exporter": "python",
   "pygments_lexer": "ipython3",
   "version": "3.12.9"
  }
 },
 "nbformat": 4,
 "nbformat_minor": 4
}
