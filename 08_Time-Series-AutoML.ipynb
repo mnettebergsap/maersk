{
 "cells": [
  {
   "cell_type": "markdown",
   "id": "102fcef7-d1dc-456c-b5c1-d841c901ccb5",
   "metadata": {},
   "source": [
    "# Exercise 7: Auto Time Series"
   ]
  },
  {
   "cell_type": "markdown",
   "id": "4255573d-7a86-4a63-8dfa-b0fd87f3aa20",
   "metadata": {},
   "source": [
    "In this section we now want to __use the Auto TS capability__ for exploring multiple pipelines and selecting the best pipeline. The selected pipeline will be used for calling predictions."
   ]
  },
  {
   "cell_type": "markdown",
   "id": "e31b6820-d7d7-4c36-a93a-351ea8ed9ece",
   "metadata": {},
   "source": [
    "The HANA ML Python Client documentation can be browsed at [Python Machine Learning Client for SAP HANA](https://help.sap.com/doc/cd94b08fe2e041c2ba778374572ddba9/2024_3_QRC/en-US/hana_ml.html)"
   ]
  },
  {
   "cell_type": "markdown",
   "id": "ddd5cdb7-beb5-477b-876d-a8acdc46c236",
   "metadata": {},
   "source": [
    "### Import the required Python packages"
   ]
  },
  {
   "cell_type": "code",
   "execution_count": null,
   "id": "9cabb044",
   "metadata": {},
   "outputs": [],
   "source": [
    "%run ./02-setup.ipynb"
   ]
  },
  {
   "cell_type": "code",
   "execution_count": null,
   "id": "6083ec24-4bf3-4ac2-8128-8546c4222d24",
   "metadata": {},
   "outputs": [],
   "source": [
    "import uuid\n",
    "\n",
    "from hana_ml.algorithms.pal.auto_ml import AutomaticTimeSeries\n",
    "from hana_ml.dataframe import ConnectionContext\n",
    "from hana_ml.model_storage import ModelStorage\n",
    "from hana_ml.visualizers.automl_progress import PipelineProgressStatusMonitor\n",
    "from hana_ml.visualizers.automl_report import BestPipelineReport\n",
    "from hana_ml.visualizers.unified_report import UnifiedReport\n",
    "import matplotlib.pyplot as plt"
   ]
  },
  {
   "cell_type": "markdown",
   "id": "4bdc011e",
   "metadata": {},
   "source": [
    "### Check the setup and connect to the database"
   ]
  },
  {
   "attachments": {},
   "cell_type": "markdown",
   "id": "d2233fae-89f3-4b5d-8160-2c97d69034e3",
   "metadata": {},
   "source": [
    "## Prepare data for processing"
   ]
  },
  {
   "cell_type": "markdown",
   "id": "5610bbbf-2140-436c-920f-1722c7652389",
   "metadata": {},
   "source": [
    "We want to reuse the same set of data from the previous session"
   ]
  },
  {
   "cell_type": "code",
   "execution_count": null,
   "id": "42d2e6fa",
   "metadata": {},
   "outputs": [],
   "source": [
    "hdf_fuleprices = conn.table('FUEL_PRICES')\n",
    "\n",
    "# in order to predict the last 7 days, we restict our training data to be earlier than 2022-09-23\n",
    "hdf_train_rnk  = hdf_fuleprices.filter('\"date\" < \\'2022-09-23 00:00:00.000\\'')\n",
    "\n",
    "# ground truth\n",
    "hdf_test_groundtruth_rnk  = hdf_fuleprices.filter('\"date\" >= \\'2022-09-23 00:00:00.000\\'')\n",
    "\n",
    "# create test dataset, same as ground truth only target column values set to 0\n",
    "hdf_test_rnk = hdf_test_groundtruth_rnk.drop(['e5'])\n",
    "hdf_test_rnk = hdf_test_rnk.add_constant('e5', 0)\n",
    "hdf_test_rnk = hdf_test_rnk.cast('e5', 'DOUBLE')\n",
    "\n",
    "#hdf_test_groundtruth_rnk.sort('date').head(3).collect()\n",
    "print('Number of forecast training rows', hdf_train_rnk.count())\n",
    "print('Number of forecast testing rows', hdf_test_rnk.count())\n",
    "\n",
    "hdf_test_rnk.save('TEST_RNK', force=True)\n",
    "hdf_test_groundtruth_rnk.save('TEST_GROUNDTRUTH_RNK', force=True)\n",
    "hdf_train_rnk.save('TRAIN_RNK', force=True)"
   ]
  },
  {
   "cell_type": "code",
   "execution_count": null,
   "id": "631711e0-1159-4452-8b69-3dc2de55332f",
   "metadata": {},
   "outputs": [],
   "source": [
    "hdf_test_rnk = conn.table('TEST_RNK')\n",
    "hdf_test_groundtruth_rnk = conn.table('TEST_GROUNDTRUTH_RNK')\n",
    "hdf_train_rnk = conn.table('TRAIN_RNK')"
   ]
  },
  {
   "cell_type": "markdown",
   "id": "6f4c0c9a-cb2e-47e3-a8a4-9696d9613224",
   "metadata": {},
   "source": [
    "For this exercise, we are using the data related to a single fuel station. You can run multiple tests just changing the station id."
   ]
  },
  {
   "cell_type": "code",
   "execution_count": null,
   "id": "1023d83d-ddce-405e-b266-a4f0cb324871",
   "metadata": {},
   "outputs": [],
   "source": [
    "station='018e8f3e-ae2f-40bc-89c1-bc3fe20eb462'"
   ]
  },
  {
   "cell_type": "markdown",
   "id": "d11ed3e2-ccfe-4338-a710-f5d0d4ad15ca",
   "metadata": {},
   "source": [
    "Filter train, test and ground truth data for the selected station"
   ]
  },
  {
   "cell_type": "code",
   "execution_count": null,
   "id": "305d92d0-dd5e-4713-8fda-c60026ddb32a",
   "metadata": {},
   "outputs": [],
   "source": [
    "\n",
    "hdf_train_1s=hdf_train_rnk.filter('\"station_uuid\" = \\'{}\\''.format(station)).sort('date', desc=False)\n",
    "hdf_train_1s=hdf_train_1s.drop('station_uuid')\n",
    "\n",
    "hdf_test_groundtruth_1s=hdf_test_groundtruth_rnk.filter('\"station_uuid\" = \\'{}\\''.format(station)).sort('date', desc=False)\n",
    "hdf_test_groundtruth_1s=hdf_test_groundtruth_1s.drop('station_uuid')\n",
    "\n",
    "hdf_test_1s=hdf_test_rnk.filter('\"station_uuid\" = \\'{}\\''.format(station)).sort('date', desc=False)\n",
    "hdf_test_1s=hdf_test_1s.drop('station_uuid').drop('e5')"
   ]
  },
  {
   "cell_type": "markdown",
   "id": "36af59f4-03a4-476a-a36d-f1cdfc83aa2a",
   "metadata": {},
   "source": [
    "## Instantiate AutoML `auto_ts` object"
   ]
  },
  {
   "cell_type": "markdown",
   "id": "d94efe4e-e125-469f-8777-966f1b3f70b7",
   "metadata": {},
   "source": [
    "Parametrization of `auto_ts` instance: https://help.sap.com/doc/cd94b08fe2e041c2ba778374572ddba9/2024_1_QRC/en-US/pal/topics/genetic_optimization_automl.html#control-parameters"
   ]
  },
  {
   "cell_type": "code",
   "execution_count": null,
   "id": "6076611e-9814-44f6-8bf7-5265b795de31",
   "metadata": {},
   "outputs": [],
   "source": [
    "# AutomaticTimeSeries init \n",
    "progress_id = \"automl_{}\".format(uuid.uuid1())\n",
    "auto_ts = AutomaticTimeSeries(generations=10,\n",
    "                                     progress_indicator_id=progress_id,\n",
    "                                     population_size=30,\n",
    "                                     early_stop=0,\n",
    "                                     offspring_size=30)"
   ]
  },
  {
   "cell_type": "code",
   "execution_count": null,
   "id": "51bc23fc-eab9-444b-9d8e-4ef37e69bc0d",
   "metadata": {},
   "outputs": [],
   "source": [
    "# enable_workload_class\n",
    "auto_ts.enable_workload_class(workload_class_name=\"PAL_AUTOML_WORKLOAD\")"
   ]
  },
  {
   "cell_type": "markdown",
   "id": "9a548c69-f38f-455a-af68-466b70ef163d",
   "metadata": {},
   "source": [
    "Display the current configuration"
   ]
  },
  {
   "cell_type": "code",
   "execution_count": null,
   "id": "d638f835-7a3f-4d18-9ec1-07a6b4e5d809",
   "metadata": {
    "scrolled": true
   },
   "outputs": [],
   "source": [
    "auto_ts.display_config_dict()"
   ]
  },
  {
   "cell_type": "markdown",
   "id": "68c4e1c5-dac8-46c4-994c-b40240b5f735",
   "metadata": {},
   "source": [
    "### Get an overview of pipeline operators and parameters"
   ]
  },
  {
   "cell_type": "code",
   "execution_count": null,
   "id": "80312ea0-58d7-4e8d-be1c-34e18ab74b5f",
   "metadata": {},
   "outputs": [],
   "source": [
    "from hana_ml.algorithms.pal import auto_ml"
   ]
  },
  {
   "cell_type": "code",
   "execution_count": null,
   "id": "8a548e54-7a7c-4e99-93c8-c58c6cbbedf4",
   "metadata": {},
   "outputs": [],
   "source": [
    "auto_ml.get_pipeline_info(conn).collect()"
   ]
  },
  {
   "cell_type": "code",
   "execution_count": null,
   "id": "39cdb878-4463-434f-99ce-7efca24289b6",
   "metadata": {},
   "outputs": [],
   "source": [
    "from IPython.display import HTML\n",
    "HTML(auto_ml.get_pipeline_info(conn).filter(\"NAME='AMTSA'\").collect().to_html())"
   ]
  },
  {
   "cell_type": "code",
   "execution_count": null,
   "id": "d44a006f",
   "metadata": {},
   "outputs": [],
   "source": [
    "eval(auto_ml.get_pipeline_info(conn).filter(\"NAME='AMTSA'\").collect()[\"SCHEMA\"][0])"
   ]
  },
  {
   "cell_type": "markdown",
   "id": "e38edc35-9604-48d6-866a-19d8d2cbf731",
   "metadata": {},
   "source": [
    "### Experiment with [pipeline setting](https://help.sap.com/doc/cd94b08fe2e041c2ba778374572ddba9/2023_3_QRC/en-US/pal/algorithms/hana_ml.algorithms.pal.auto_ml.AutomaticClassification.html#hana_ml.algorithms.pal.auto_ml.AutomaticClassification.delete_config_dict)"
   ]
  },
  {
   "cell_type": "code",
   "execution_count": null,
   "id": "c47772e0-05d7-4ca9-80da-3adb6780288f",
   "metadata": {},
   "outputs": [],
   "source": [
    "# auto_c.delete_config_dict(category=\"Resampler\")\n",
    "# auto_c.delete_config_dict(category=\"Transformer\")"
   ]
  },
  {
   "cell_type": "code",
   "execution_count": null,
   "id": "da632a96-6063-42d6-ab2b-53e954423de2",
   "metadata": {},
   "outputs": [],
   "source": [
    "#auto_ts.delete_config_dict(operator_name='AMTSA')\n",
    "auto_ts.delete_config_dict(operator_name='BSTS')\n",
    "auto_ts.delete_config_dict(operator_name='ARIMA')\n",
    "auto_ts.delete_config_dict(operator_name='AutoExpSm')\n",
    "auto_ts.delete_config_dict(operator_name='BrownExpSm')\n",
    "auto_ts.delete_config_dict(operator_name='HGBT_TimeSeries')\n",
    "auto_ts.delete_config_dict(operator_name='MLR_TimeSeries')\n",
    "auto_ts.delete_config_dict(operator_name='MLR_TimeSeries')"
   ]
  },
  {
   "cell_type": "code",
   "execution_count": null,
   "id": "15f3b142-ea12-4667-a2e7-f9151d7b1fb7",
   "metadata": {},
   "outputs": [],
   "source": [
    "auto_ts.display_config_dict()"
   ]
  },
  {
   "cell_type": "markdown",
   "id": "3e867fa2-ab98-433d-ab7e-255089f7d388",
   "metadata": {},
   "source": [
    "## Best pipeline determination"
   ]
  },
  {
   "cell_type": "markdown",
   "id": "fe8095e4-ebbc-4d7a-a4d1-a079b276934a",
   "metadata": {},
   "source": [
    "### Start Progress Status Monitor"
   ]
  },
  {
   "cell_type": "code",
   "execution_count": null,
   "id": "896a48ad-b6ca-4a05-90d5-c0526277ccab",
   "metadata": {},
   "outputs": [],
   "source": [
    "# invoke a PipelineProgressStatusMonitor\n",
    "progress_status_monitor = PipelineProgressStatusMonitor(\n",
    "    # need to create a connection context different from the one of AutoML\n",
    "    connection_context=conn, \n",
    "    automatic_obj=auto_ts)"
   ]
  },
  {
   "cell_type": "code",
   "execution_count": null,
   "id": "2319d2c1-c830-43b4-b857-f7b1e8982157",
   "metadata": {},
   "outputs": [],
   "source": [
    "progress_status_monitor.start()\n",
    "\n",
    "# training\n",
    "try:\n",
    "  auto_ts.fit(data=hdf_train_1s, key=\"date\", endog=\"e5\")\n",
    "except Exception as e:\n",
    "    raise e"
   ]
  },
  {
   "cell_type": "markdown",
   "id": "f02eb0e0-a16a-4a61-a7c1-5ca290870839",
   "metadata": {},
   "source": [
    "### Get a report for the Best Pipeline"
   ]
  },
  {
   "cell_type": "code",
   "execution_count": null,
   "id": "7e1f6fbb-753a-4d04-924d-d853608e1e3a",
   "metadata": {},
   "outputs": [],
   "source": [
    "BestPipelineReport(auto_ts).generate_notebook_iframe()"
   ]
  },
  {
   "cell_type": "code",
   "execution_count": null,
   "id": "4bd408d2-18e4-4e15-b8d1-01d1fffcddee",
   "metadata": {},
   "outputs": [],
   "source": [
    "auto_ts.get_best_pipeline()"
   ]
  },
  {
   "cell_type": "raw",
   "id": "601a9494-59fe-48be-882a-997ac600ca6b",
   "metadata": {
    "vscode": {
     "languageId": "raw"
    }
   },
   "source": [
    "# To generate an HTML page for the same:\n",
    "BestPipelineReport(auto_ts).generate_html('auto-ml')"
   ]
  },
  {
   "cell_type": "code",
   "execution_count": null,
   "id": "76f7faf8-a754-48a2-b5de-597002006971",
   "metadata": {},
   "outputs": [],
   "source": [
    "auto_ts.model_[0].head(5).collect()"
   ]
  },
  {
   "cell_type": "code",
   "execution_count": null,
   "id": "a5547cba-bbb5-43c4-8011-363c173f3a2b",
   "metadata": {},
   "outputs": [],
   "source": [
    "auto_ts.model_[1].collect()"
   ]
  },
  {
   "cell_type": "markdown",
   "id": "158a7495-7b45-4c2f-b675-40ce9efaca15",
   "metadata": {},
   "source": [
    "## Save the model in SAP HANA db"
   ]
  },
  {
   "cell_type": "code",
   "execution_count": null,
   "id": "48b946f1-35a5-462b-9c18-65d483d0c412",
   "metadata": {},
   "outputs": [],
   "source": [
    "ms = ModelStorage(conn)\n",
    "auto_ts.name = 'AutoTS Model'\n",
    "auto_ts.version = 1\n",
    "ms.save_model(model=auto_ts, if_exists='replace')"
   ]
  },
  {
   "cell_type": "code",
   "execution_count": null,
   "id": "96edf201-a8e8-4021-991a-09ecddb1c9ff",
   "metadata": {},
   "outputs": [],
   "source": [
    "ms.list_models()"
   ]
  },
  {
   "cell_type": "code",
   "execution_count": null,
   "id": "41bdbad4-b39a-43d8-80f3-d3773ffac6fa",
   "metadata": {},
   "outputs": [],
   "source": [
    "null = None\n",
    "false = False\n",
    "true = True\n",
    "eval(ms.list_models(name=auto_ts.name, version=auto_ts.version).at[0, 'JSON'])"
   ]
  },
  {
   "cell_type": "code",
   "execution_count": null,
   "id": "6c8c5fa9-7536-4a98-b4bf-268f16892a8e",
   "metadata": {},
   "outputs": [],
   "source": [
    "print(auto_ts.best_pipeline_.collect())"
   ]
  },
  {
   "cell_type": "markdown",
   "id": "9c6bf50b-3d57-499a-a647-af7f0daccb3c",
   "metadata": {},
   "source": [
    "## Call prediction"
   ]
  },
  {
   "cell_type": "code",
   "execution_count": null,
   "id": "f3f53b64-22a0-44c0-a756-2a23254444d6",
   "metadata": {},
   "outputs": [],
   "source": [
    "\n",
    "fc_result = auto_ts.predict(data=hdf_test_1s, key=\"date\")\n"
   ]
  },
  {
   "cell_type": "markdown",
   "id": "522f6231-5f74-4695-9c73-567ac1f2f3c5",
   "metadata": {},
   "source": [
    "Look at the executed statement on the DB"
   ]
  },
  {
   "cell_type": "code",
   "execution_count": null,
   "id": "c32a95f7-033a-41d7-96d1-3b4f8ab7749c",
   "metadata": {},
   "outputs": [],
   "source": [
    "print(auto_ts.get_predict_execute_statement())"
   ]
  },
  {
   "cell_type": "markdown",
   "id": "0dff9865-5e11-4e0e-826b-791d52d90067",
   "metadata": {},
   "source": [
    "Look at the forecast result data"
   ]
  },
  {
   "cell_type": "code",
   "execution_count": null,
   "id": "bf13e168-4138-4d5f-a178-80563af33cd6",
   "metadata": {},
   "outputs": [],
   "source": [
    "display(fc_result.collect())"
   ]
  },
  {
   "cell_type": "code",
   "execution_count": null,
   "id": "b5902481-4fba-466c-b1ff-72e4f032660d",
   "metadata": {},
   "outputs": [],
   "source": [
    "forecast_1s=fc_result.sort('ID')\n",
    "forecast_1s=forecast_1s.rename_columns({'ID': 'date'}).rename_columns({'SCORES': 'PREDICTED'}).cast({\"date\": \"TIMESTAMP\"}).cast({\"PREDICTED\": \"DOUBLE\"})\n",
    "\n",
    "display(forecast_1s.head(10).collect())"
   ]
  },
  {
   "cell_type": "code",
   "execution_count": null,
   "id": "49306cd0-7a92-4880-b895-aa9b81b29c3c",
   "metadata": {},
   "outputs": [],
   "source": [
    "actual_1s=hdf_test_groundtruth_1s.rename_columns({'e5': 'ACTUAL'})"
   ]
  },
  {
   "cell_type": "code",
   "execution_count": null,
   "id": "ab7fbcd4-0d2c-4e46-973f-5b5ac60e6038",
   "metadata": {},
   "outputs": [],
   "source": [
    "display(actual_1s.head(10).collect())"
   ]
  },
  {
   "cell_type": "markdown",
   "id": "40055cf9-5cd8-40f1-bc32-506eb6c0be94",
   "metadata": {},
   "source": [
    "### Forecast-Lineplot for the forecasted week"
   ]
  },
  {
   "cell_type": "code",
   "execution_count": null,
   "id": "68ea9436-a89c-43dd-bf46-a44d2bd7a6b0",
   "metadata": {},
   "outputs": [],
   "source": [
    "\n",
    "from hana_ml.visualizers.visualizer_base import forecast_line_plot\n",
    "ax = forecast_line_plot(actual_data=actual_1s.set_index(\"date\"),\n",
    "                            pred_data=forecast_1s.set_index(\"date\"),                \n",
    "                            max_xticklabels=10, \n",
    "                            enable_plotly=False,\n",
    "                            actual_option={'zorder': 1 , 'alpha' : 0.5})    \n",
    "\n",
    "ax.set_title('Fuel Price Actual and Forecast', pad=20)\n",
    "plt.ylabel('Gas Price e5 [€]')\n",
    "plt.show()"
   ]
  },
  {
   "cell_type": "markdown",
   "id": "4f6f7b77-c804-46b4-a86b-03e567228d69",
   "metadata": {},
   "source": [
    "\n",
    "In order to __evaluate the forecast accuracy__ , we need to comparing predicted forecast values (from the predict-results) with the actual ground-truth e5-values of the test data time period, , which we join together using __dataframe-join methods__."
   ]
  },
  {
   "cell_type": "code",
   "execution_count": null,
   "id": "f0385a6f-5ac2-407d-8f41-ee31d9aed967",
   "metadata": {},
   "outputs": [],
   "source": [
    "\n",
    "# Join actual and predicted values in a new dataframe\n",
    "hdf_comparison=actual_1s.alias('A').join(forecast_1s.alias('F'), \n",
    "          'A.\"date\" = F.\"date\"',\n",
    "          select=[ ('A.\"date\"', 'DATE'), 'ACTUAL', 'PREDICTED']).sort('DATE')\n",
    "hdf_comparison=hdf_comparison.sort('DATE')\n",
    " \n",
    "display(hdf_comparison.head(10).collect())"
   ]
  },
  {
   "cell_type": "code",
   "execution_count": null,
   "id": "4669d9ee-4ba9-4396-b1b5-4a53fcefc309",
   "metadata": {},
   "outputs": [],
   "source": [
    "# Calculate Forecast Accuracy Measure\n",
    "from hana_ml.algorithms.pal.tsa.accuracy_measure import accuracy_measure\n",
    "\n",
    "amres = accuracy_measure(data=hdf_comparison.select(['ACTUAL', 'PREDICTED']), evaluation_metric=['mse', 'rmse', 'mpe', 'et',\n",
    "                                              'mad', 'mase', 'wmape', 'smape',\n",
    "                                              'mape'])\n",
    "\n",
    "amres.collect()\n",
    "   "
   ]
  }
 ],
 "metadata": {
  "kernelspec": {
   "display_name": "Python 3",
   "language": "python",
   "name": "python3"
  },
  "language_info": {
   "codemirror_mode": {
    "name": "ipython",
    "version": 3
   },
   "file_extension": ".py",
   "mimetype": "text/x-python",
   "name": "python",
   "nbconvert_exporter": "python",
   "pygments_lexer": "ipython3",
   "version": "3.12.9"
  }
 },
 "nbformat": 4,
 "nbformat_minor": 5
}
