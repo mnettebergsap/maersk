{
 "cells": [
  {
   "cell_type": "markdown",
   "metadata": {},
   "source": [
    "# Python HANA ML APL"
   ]
  },
  {
   "cell_type": "markdown",
   "metadata": {},
   "source": [
    "<div class=\"alert alert-block alert-info\">\n",
    "<b>Predicting a continuous target (regression case).</b> <br>\n",
    "</div>"
   ]
  },
  {
   "cell_type": "markdown",
   "metadata": {},
   "source": [
    "## Train"
   ]
  },
  {
   "cell_type": "code",
   "execution_count": null,
   "metadata": {},
   "outputs": [],
   "source": [
    "%run ./02-setup.ipynb"
   ]
  },
  {
   "cell_type": "markdown",
   "metadata": {},
   "source": [
    "### Create an HANA Dataframe for the training data"
   ]
  },
  {
   "cell_type": "code",
   "execution_count": null,
   "metadata": {},
   "outputs": [],
   "source": [
    "sql_cmd = 'SELECT * FROM \"CENSUS\"'\n",
    "hdf_train = hdf.DataFrame(conn, sql_cmd)"
   ]
  },
  {
   "cell_type": "code",
   "execution_count": null,
   "metadata": {},
   "outputs": [],
   "source": [
    "hdf_train.head(6).collect()"
   ]
  },
  {
   "cell_type": "markdown",
   "metadata": {},
   "source": [
    "### Fit with APL Gradient Boosting"
   ]
  },
  {
   "cell_type": "code",
   "execution_count": null,
   "metadata": {},
   "outputs": [],
   "source": [
    "from hana_ml.algorithms.apl.gradient_boosting_regression import GradientBoostingRegressor\n",
    "apl_model = GradientBoostingRegressor(eval_metric='MAE', variable_auto_selection = True)\n",
    "apl_model.fit(hdf_train, label='age', key='id')"
   ]
  },
  {
   "cell_type": "markdown",
   "metadata": {},
   "source": [
    "##### Model Reports"
   ]
  },
  {
   "cell_type": "code",
   "execution_count": null,
   "metadata": {
    "scrolled": true
   },
   "outputs": [],
   "source": [
    "df = apl_model.get_debrief_report('ClassificationRegression_VariablesContribution').collect()\n",
    "df = df.sort_values(by=['Rank'])\n",
    "df.drop({'Oid','Method','Rank'}, axis=1, inplace=True)\n",
    "df.drop(df[df.Contribution <=0].index, inplace=True)\n",
    "format_dict = {'Contribution':'{:,.2%}','Cumulative':'{:,.2%}'}\n",
    "df.style.format(format_dict).hide(axis='index')"
   ]
  },
  {
   "cell_type": "code",
   "execution_count": null,
   "metadata": {},
   "outputs": [],
   "source": [
    "my_filter = \"\\\"Partition\\\" = 'Validation' and \\\"Indicator\\\" in ('MAPE','RMSE')\"\n",
    "df = apl_model.get_debrief_report('ClassificationRegression_Performance').filter(my_filter).collect()\n",
    "df.drop('Oid', axis=1, inplace=True)\n",
    "format_dict = {'Value':'{:,.3f}'}\n",
    "df.style.format(format_dict).hide(axis='index')"
   ]
  },
  {
   "cell_type": "markdown",
   "metadata": {},
   "source": [
    "## Make Predictions"
   ]
  },
  {
   "cell_type": "code",
   "execution_count": null,
   "metadata": {},
   "outputs": [],
   "source": [
    "sql_cmd = 'SELECT * FROM \"CENSUS\" LIMIT 100'\n",
    "hdf_apply = hdf.DataFrame(conn, sql_cmd)\n",
    "df = apl_model.predict(hdf_apply).collect()\n",
    "df.columns = ['id', 'Actual','Prediction']\n",
    "df.head(8)"
   ]
  },
  {
   "cell_type": "markdown",
   "metadata": {},
   "source": [
    "### Export Apply Code"
   ]
  },
  {
   "cell_type": "code",
   "execution_count": null,
   "metadata": {},
   "outputs": [],
   "source": [
    "apl_scoring_equation = apl_model.export_apply_code(code_type='JSON')"
   ]
  },
  {
   "cell_type": "code",
   "execution_count": null,
   "metadata": {},
   "outputs": [],
   "source": [
    "text_file = open(\"apl_model.json\", \"w\")\n",
    "text_file.write(apl_scoring_equation)\n",
    "text_file.close()"
   ]
  }
 ],
 "metadata": {
  "kernelspec": {
   "display_name": "Python 3",
   "language": "python",
   "name": "python3"
  },
  "language_info": {
   "codemirror_mode": {
    "name": "ipython",
    "version": 3
   },
   "file_extension": ".py",
   "mimetype": "text/x-python",
   "name": "python",
   "nbconvert_exporter": "python",
   "pygments_lexer": "ipython3",
   "version": "3.12.9"
  }
 },
 "nbformat": 4,
 "nbformat_minor": 4
}
