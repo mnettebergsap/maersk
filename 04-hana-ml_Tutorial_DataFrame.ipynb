{
 "cells": [
  {
   "cell_type": "markdown",
   "metadata": {},
   "source": [
    "# hana-ml Tutorial - Dataframe\n",
    "\n",
    "**Author: TI HDA DB HANA Core CN**\n",
    "\n",
    "The SAP HANA Python Client API for machine learning algorithms (Python Client API for ML) provides a set of client-side Python functions for accessing and querying SAP HANA data, and a set of functions for developing machine learning models.\n",
    "In this tutorial, we will show you how to use various functions of Dataframe. \n",
    "\n",
    "A dataframe represents a table (or any SQL statement).  Most operations on a dataframe are designed to not bring data back from the database unless explicitly asked for.\n",
    "\n",
    "## Import necessary libraries and functions"
   ]
  },
  {
   "cell_type": "code",
   "execution_count": null,
   "metadata": {},
   "outputs": [],
   "source": [
    "%run ./02-setup.ipynb"
   ]
  },
  {
   "cell_type": "code",
   "execution_count": null,
   "metadata": {},
   "outputs": [],
   "source": [
    "from hana_ml import dataframe\n",
    "from hana_ml.dataframe import ConnectionContext\n",
    "from hana_ml.algorithms.pal.utility import DataSets, Settings\n",
    "import pandas as pd"
   ]
  },
  {
   "cell_type": "markdown",
   "metadata": {},
   "source": [
    "## Create a connection to a SAP HANA instance\n",
    "\n",
    "First, you need to create a connetion to a SAP HANA instance. In the following cell, we use a config file, config/e2edata.ini to control the connection parameters. \n",
    "\n",
    "In your case, please update the following url, port, user, pwd with your HANA instance information for setting up the connection. "
   ]
  },
  {
   "cell_type": "code",
   "execution_count": null,
   "metadata": {},
   "outputs": [],
   "source": [
    "# Please replace url, port, user, pwd with your HANA instance information\n",
    "connection_context = ConnectionContext(host_address, hdb_port, hdb_user, hdb_password)"
   ]
  },
  {
   "cell_type": "markdown",
   "metadata": {},
   "source": [
    "## Obtain a hana-ml dataframe"
   ]
  },
  {
   "cell_type": "markdown",
   "metadata": {},
   "source": [
    "**1. Create a hana-ml dataframe from pandas DataFrame**\n",
    "\n",
    "create_dataframe_from_pandas() will create a dataframe from a pandas DataFrame and create a table in SAP HANA."
   ]
  },
  {
   "cell_type": "code",
   "execution_count": null,
   "metadata": {},
   "outputs": [],
   "source": [
    "df = dataframe.create_dataframe_from_pandas(connection_context=connection_context,\n",
    "                                            pandas_df=pd.DataFrame({\"ID\": [1,2,5],\n",
    "                                                                    \"ID2\": [1,None,5],\n",
    "                                                                    \"V3\": [2,3,4],\n",
    "                                                                    \"V4\": [3,3,3],\n",
    "                                                                    \"V5\": ['a', None, 'b']}),\n",
    "                                            table_name=\"#tt_null\",\n",
    "                                            force=True)\n",
    "print(type(df))"
   ]
  },
  {
   "cell_type": "markdown",
   "metadata": {},
   "source": [
    "**2. Invoke table function**\n",
    "\n",
    "This function returns a dataframe which represents a specified table in SAP HANA"
   ]
  },
  {
   "cell_type": "code",
   "execution_count": null,
   "metadata": {},
   "outputs": [],
   "source": [
    "df1 = connection_context.table(\"#tt_null\")\n",
    "print(type(df1))"
   ]
  },
  {
   "cell_type": "markdown",
   "metadata": {},
   "source": [
    "## Property of dataframe\n",
    "\n",
    "**SQL select statement**"
   ]
  },
  {
   "cell_type": "code",
   "execution_count": null,
   "metadata": {},
   "outputs": [],
   "source": [
    "print(df.select_statement)"
   ]
  },
  {
   "cell_type": "markdown",
   "metadata": {},
   "source": [
    "**Connection**"
   ]
  },
  {
   "cell_type": "code",
   "execution_count": null,
   "metadata": {},
   "outputs": [],
   "source": [
    "df.connection_context"
   ]
  },
  {
   "cell_type": "markdown",
   "metadata": {},
   "source": [
    "## Fetch data in SAP HANA to client\n",
    "Fetch the first 5 rows of df into client as a <b>Pandas Dataframe</b>"
   ]
  },
  {
   "cell_type": "code",
   "execution_count": null,
   "metadata": {},
   "outputs": [],
   "source": [
    "pd_df = df.head(5).collect()\n",
    "print(pd_df)\n",
    "print(type(pd_df))"
   ]
  },
  {
   "cell_type": "markdown",
   "metadata": {},
   "source": [
    "## Save a dataframe"
   ]
  },
  {
   "cell_type": "code",
   "execution_count": null,
   "metadata": {},
   "outputs": [],
   "source": [
    "# Creates a table or view holding the current DataFrame's data.\n",
    "df.save(where=\"#TT\")\n",
    "print(connection_context.table(\"#TT\").collect())"
   ]
  },
  {
   "cell_type": "markdown",
   "metadata": {},
   "source": [
    "## Simple Operations\n",
    "\n",
    "In this section, we will show some basic operations of hana-ml dataframe. Please refer more functions in detail in the dataframe documentation.\n",
    "\n",
    "In hana-ml, we provide a class called DataSets which contains several small public datasets. You could use load_bank_data() to load the bank dataset. We will use the bank dataset in the following examples."
   ]
  },
  {
   "cell_type": "code",
   "execution_count": null,
   "metadata": {},
   "outputs": [],
   "source": [
    "# load the dataset and obtain a series of dataframe\n",
    "\n",
    "sql_cmd = 'SELECT * FROM \"BANK\"'\n",
    "bank_df = hdf.DataFrame(conn, sql_cmd)\n",
    "\n",
    "print(bank_df.head(3).collect())\n",
    "print(type(bank_df))"
   ]
  },
  {
   "cell_type": "markdown",
   "metadata": {},
   "source": [
    "**columns**"
   ]
  },
  {
   "cell_type": "code",
   "execution_count": null,
   "metadata": {},
   "outputs": [],
   "source": [
    "bank_df.columns"
   ]
  },
  {
   "cell_type": "markdown",
   "metadata": {},
   "source": [
    "**shape**"
   ]
  },
  {
   "cell_type": "code",
   "execution_count": null,
   "metadata": {},
   "outputs": [],
   "source": [
    "bank_df.shape"
   ]
  },
  {
   "cell_type": "markdown",
   "metadata": {},
   "source": [
    "**get_table_structure**"
   ]
  },
  {
   "cell_type": "code",
   "execution_count": null,
   "metadata": {},
   "outputs": [],
   "source": [
    "bank_df.get_table_structure()"
   ]
  },
  {
   "cell_type": "markdown",
   "metadata": {},
   "source": [
    "**Add ID**"
   ]
  },
  {
   "cell_type": "code",
   "execution_count": null,
   "metadata": {},
   "outputs": [],
   "source": [
    "bank_df.add_id(id_col='ID1').head(5).collect()"
   ]
  },
  {
   "cell_type": "markdown",
   "metadata": {},
   "source": [
    "**Add a constant column**"
   ]
  },
  {
   "cell_type": "code",
   "execution_count": null,
   "metadata": {},
   "outputs": [],
   "source": [
    "bank_df.add_constant(column_name='Constant', value=888).head(5).collect()"
   ]
  },
  {
   "cell_type": "markdown",
   "metadata": {},
   "source": [
    "**Count the number of rows**"
   ]
  },
  {
   "cell_type": "code",
   "execution_count": null,
   "metadata": {},
   "outputs": [],
   "source": [
    "bank_df.count()"
   ]
  },
  {
   "cell_type": "markdown",
   "metadata": {},
   "source": [
    "**Drop duplicates**"
   ]
  },
  {
   "cell_type": "code",
   "execution_count": null,
   "metadata": {},
   "outputs": [],
   "source": [
    "df_no_duplicate = bank_df.drop_duplicates()\n",
    "print(df_no_duplicate.count())# there is no duplicate row in bank dataset\n",
    "print(df_no_duplicate.select_statement)"
   ]
  },
  {
   "cell_type": "markdown",
   "metadata": {},
   "source": [
    "#### Remove a column"
   ]
  },
  {
   "cell_type": "code",
   "execution_count": null,
   "metadata": {},
   "outputs": [],
   "source": [
    "df1 = bank_df\n",
    "print(df1.shape)\n",
    "df2 = df1.drop([\"LABEL\"])\n",
    "print(df2.shape)\n",
    "print(df2.select_statement)"
   ]
  },
  {
   "cell_type": "markdown",
   "metadata": {},
   "source": [
    "**Filtering Data**"
   ]
  },
  {
   "cell_type": "code",
   "execution_count": null,
   "metadata": {},
   "outputs": [],
   "source": [
    "print(bank_df.filter('AGE > 60').head(3).collect())\n",
    "print(bank_df.filter('AGE > 60').select_statement)"
   ]
  },
  {
   "cell_type": "markdown",
   "metadata": {},
   "source": [
    "**Sorting**"
   ]
  },
  {
   "cell_type": "code",
   "execution_count": null,
   "metadata": {},
   "outputs": [],
   "source": [
    "print(bank_df.filter('AGE>60').sort(['AGE']).head(3).collect())\n",
    "print(bank_df.filter('AGE>60').sort(['AGE']).select_statement)"
   ]
  },
  {
   "cell_type": "markdown",
   "metadata": {},
   "source": [
    "**Cast**"
   ]
  },
  {
   "cell_type": "code",
   "execution_count": null,
   "metadata": {},
   "outputs": [],
   "source": [
    "bank_df.cast({\"AGE\": \"BIGINT\", \"JOB\": \"NVARCHAR(50)\"}).get_table_structure()"
   ]
  },
  {
   "cell_type": "markdown",
   "metadata": {},
   "source": [
    "**Distinct**"
   ]
  },
  {
   "cell_type": "code",
   "execution_count": null,
   "metadata": {},
   "outputs": [],
   "source": [
    "bank_df.distinct(cols='JOB').collect()"
   ]
  },
  {
   "cell_type": "markdown",
   "metadata": {},
   "source": [
    "**Describing a dataframe**"
   ]
  },
  {
   "cell_type": "code",
   "execution_count": null,
   "metadata": {},
   "outputs": [],
   "source": [
    "bank_df.describe().collect()"
   ]
  },
  {
   "cell_type": "markdown",
   "metadata": {},
   "source": [
    "**Replace NULL value with a specified value**"
   ]
  },
  {
   "cell_type": "code",
   "execution_count": null,
   "metadata": {},
   "outputs": [],
   "source": [
    "print(bank_df.collect())\n",
    "print(bank_df.fillna(value=0).collect())"
   ]
  },
  {
   "cell_type": "code",
   "execution_count": null,
   "metadata": {},
   "outputs": [],
   "source": [
    "print(bank_df.collect())\n",
    "print(bank_df.fillna(value='').collect())"
   ]
  },
  {
   "cell_type": "code",
   "execution_count": null,
   "metadata": {},
   "outputs": [],
   "source": [
    "print(df.collect())\n",
    "print(df.fillna('').fillna(0).collect())"
   ]
  },
  {
   "cell_type": "markdown",
   "metadata": {},
   "source": [
    "**Projection**"
   ]
  },
  {
   "cell_type": "code",
   "execution_count": null,
   "metadata": {},
   "outputs": [],
   "source": [
    "dsp = bank_df.select(\"AGE\", \"JOB\", ('\"AGE\"*2', \"TWICE_AGE\"))\n",
    "print(dsp.head(5).collect())\n",
    "print(dsp.select_statement)"
   ]
  },
  {
   "cell_type": "markdown",
   "metadata": {},
   "source": [
    "**Simple Joins**"
   ]
  },
  {
   "cell_type": "code",
   "execution_count": null,
   "metadata": {},
   "outputs": [],
   "source": [
    "df1 = dataframe.create_dataframe_from_pandas(connection_context=connection_context,\n",
    "                                             pandas_df=pd.DataFrame({\"ID\": [1,2,3],\n",
    "                                                                     \"ID2\": [1,2,3],\n",
    "                                                                     \"V1\": [2,3,4]}),\n",
    "                                             table_name=\"#tt1\",\n",
    "                                             force=True)\n",
    "df2 = dataframe.create_dataframe_from_pandas(connection_context=connection_context,\n",
    "                                             pandas_df=pd.DataFrame({\"ID\": [1,2],\n",
    "                                                                     \"ID2\": [1,2],\n",
    "                                                                     \"V2\": [2,3]}),\n",
    "                                             table_name=\"#tt2\",\n",
    "                                             force=True)\n",
    "df3 = dataframe.create_dataframe_from_pandas(connection_context=connection_context,\n",
    "                                             pandas_df=pd.DataFrame({\"ID\": [1,2,5],\n",
    "                                                                     \"ID2\": [1,2,5],\n",
    "                                                                     \"V3\": [2,3,4],\n",
    "                                                                     \"V4\": [3,3,3],\n",
    "                                                                     \"V5\": ['a','a','b']}),\n",
    "                                             table_name=\"#tt3\",\n",
    "                                             force=True)\n"
   ]
  },
  {
   "cell_type": "code",
   "execution_count": null,
   "metadata": {},
   "outputs": [],
   "source": [
    "print(df1.collect())\n",
    "print(df2.collect())\n",
    "print(df3.collect())"
   ]
  },
  {
   "cell_type": "code",
   "execution_count": null,
   "metadata": {},
   "outputs": [],
   "source": [
    "dfs = [df1.set_index(\"ID\"), df2.set_index(\"ID\"), df3.set_index(\"ID\")]\n",
    "print(dfs[0].join(dfs[1:]).collect())"
   ]
  },
  {
   "cell_type": "code",
   "execution_count": null,
   "metadata": {},
   "outputs": [],
   "source": [
    "dfs = [df1.set_index([\"ID\", \"ID2\"]), df2.set_index([\"ID\", \"ID2\"]), df3.set_index([\"ID\", \"ID2\"])]\n",
    "print(dfs[0].join(dfs[1:]).collect())"
   ]
  },
  {
   "cell_type": "code",
   "execution_count": null,
   "metadata": {},
   "outputs": [],
   "source": [
    "print(dfs[0].union([dfs[0], dfs[0]]).collect())"
   ]
  },
  {
   "cell_type": "markdown",
   "metadata": {},
   "source": [
    "**Sort by index**"
   ]
  },
  {
   "cell_type": "code",
   "execution_count": null,
   "metadata": {},
   "outputs": [],
   "source": [
    "df1.sort_index().collect()"
   ]
  },
  {
   "cell_type": "markdown",
   "metadata": {},
   "source": [
    "**Take min, max, sum, median, mean**"
   ]
  },
  {
   "cell_type": "code",
   "execution_count": null,
   "metadata": {},
   "outputs": [],
   "source": [
    "df1.min()"
   ]
  },
  {
   "cell_type": "code",
   "execution_count": null,
   "metadata": {},
   "outputs": [],
   "source": [
    "df1.select(\"V1\").min()"
   ]
  },
  {
   "cell_type": "code",
   "execution_count": null,
   "metadata": {},
   "outputs": [],
   "source": [
    "df1.max()"
   ]
  },
  {
   "cell_type": "code",
   "execution_count": null,
   "metadata": {},
   "outputs": [],
   "source": [
    "df1.sum()"
   ]
  },
  {
   "cell_type": "code",
   "execution_count": null,
   "metadata": {},
   "outputs": [],
   "source": [
    "df1.median()"
   ]
  },
  {
   "cell_type": "code",
   "execution_count": null,
   "metadata": {},
   "outputs": [],
   "source": [
    "df1.mean()"
   ]
  },
  {
   "cell_type": "markdown",
   "metadata": {},
   "source": [
    "**Value counts**"
   ]
  },
  {
   "cell_type": "code",
   "execution_count": null,
   "metadata": {},
   "outputs": [],
   "source": [
    "df3.value_counts().collect()"
   ]
  },
  {
   "cell_type": "markdown",
   "metadata": {},
   "source": [
    "**Split column**"
   ]
  },
  {
   "cell_type": "code",
   "execution_count": null,
   "metadata": {},
   "outputs": [],
   "source": [
    "import pandas as pd\n",
    "split_df = \\\n",
    "dataframe.create_dataframe_from_pandas(connection_context,\n",
    "                                       pandas_df=pd.DataFrame({\"ID\": [1,2],\n",
    "                                                               \"COL\": ['1,2,3', '3,4,4']}),\n",
    "                                       table_name=\"#split_test\",\n",
    "                                       force=True)"
   ]
  },
  {
   "cell_type": "code",
   "execution_count": null,
   "metadata": {},
   "outputs": [],
   "source": [
    "new_df = split_df.split_column(column=\"COL\", separator=\",\", new_column_names=[\"COL1\", \"COL2\", \"COL3\"])\n",
    "new_df.collect()"
   ]
  },
  {
   "cell_type": "markdown",
   "metadata": {},
   "source": [
    "**Concat columns**"
   ]
  },
  {
   "cell_type": "code",
   "execution_count": null,
   "metadata": {},
   "outputs": [],
   "source": [
    "new_df.concat_columns(columns=[\"COL1\", \"COL2\", \"COL3\"], separator=\",\").collect()"
   ]
  },
  {
   "cell_type": "markdown",
   "metadata": {},
   "source": [
    "## Close the connection"
   ]
  },
  {
   "cell_type": "code",
   "execution_count": null,
   "metadata": {},
   "outputs": [],
   "source": [
    "connection_context.close()"
   ]
  },
  {
   "cell_type": "markdown",
   "metadata": {},
   "source": [
    "## Thank you!"
   ]
  }
 ],
 "metadata": {
  "kernelspec": {
   "display_name": "Python 3",
   "language": "python",
   "name": "python3"
  },
  "language_info": {
   "codemirror_mode": {
    "name": "ipython",
    "version": 3
   },
   "file_extension": ".py",
   "mimetype": "text/x-python",
   "name": "python",
   "nbconvert_exporter": "python",
   "pygments_lexer": "ipython3",
   "version": "3.12.9"
  }
 },
 "nbformat": 4,
 "nbformat_minor": 4
}
