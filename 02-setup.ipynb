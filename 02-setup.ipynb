{
 "cells": [
  {
   "cell_type": "markdown",
   "metadata": {},
   "source": [
    "### Exercise 02. Establish a connection to SAP Cloud.\n",
    "\n",
    "### Now we will establish a connection to SAP Cloud. SAP HANA Cloud will act as our Data Engineering and Machine Learning engine during the exercises."
   ]
  },
  {
   "cell_type": "markdown",
   "metadata": {},
   "source": [
    "### Let's start importing the required python libraries."
   ]
  },
  {
   "cell_type": "code",
   "execution_count": null,
   "metadata": {},
   "outputs": [],
   "source": [
    "import hana_ml\n",
    "from hana_ml import dataframe as hdf\n",
    "from hana_ml.dataframe import create_dataframe_from_pandas\n",
    "import hdbcli\n",
    "\n",
    "# Import additional packages\n",
    "import pandas as pd\n",
    "import numpy as np\n",
    "import matplotlib.pyplot as plt\n",
    "\n",
    "print(hana_ml.__version__)\n",
    "\n",
    "print(f\"SAP HANA Client for Python: {hana_ml.__version__}\")"
   ]
  },
  {
   "cell_type": "markdown",
   "metadata": {},
   "source": [
    "##### Now we will create the connection. You need to fill in the required information below - replace xxx with the right information(The required information was provided yo you in the beginning). \n",
    "\n",
    "##### - host_address (ex. xyzfe51f-540c-4b27-8523-3ff931c0674d.hana.prod-us10.hanacloud.ondemand.com)\n",
    "##### - hdb_user (ex. AC181594X01)\n",
    "##### - hdb_password (ex. ObAxLMJSF21!)"
   ]
  },
  {
   "cell_type": "code",
   "execution_count": null,
   "metadata": {},
   "outputs": [],
   "source": [
    "# Hana Cloud Connection\n",
    "\n",
    "#from hana_ml import dataframe as hdf\n",
    "\n",
    "#host_address = input(\"Enter HANA Cloud Hostname\")\n",
    "#hdb_user = input(\"Enter Username\")\n",
    "#hdb_password = input(\"Enter Password :\")\n",
    "\n",
    "host_address = 'xxx'\n",
    "hdb_port = '443'\n",
    "hdb_user = 'xxx'\n",
    "hdb_password = 'xxx'\n",
    "\n",
    "conn = hdf.ConnectionContext(\n",
    "    host_address,\n",
    "    port=hdb_port,\n",
    "    user=hdb_user,\n",
    "    password=hdb_password,\n",
    "    autocommit=True,\n",
    "    sslValidateCertificate=False,\n",
    ")\n"
   ]
  },
  {
   "cell_type": "markdown",
   "metadata": {},
   "source": [
    "#### Ok - let's test the connection. you will be informed if a connection is established successfully or not."
   ]
  },
  {
   "cell_type": "code",
   "execution_count": null,
   "metadata": {},
   "outputs": [],
   "source": [
    "try:\n",
    "    result = conn.sql(\"SELECT NOW() FROM DUMMY\").collect().CURRENT_TIMESTAMP[0]\n",
    "    print('HANA connection succesfully established!')\n",
    "    print('Current time on the SAP HANA server:', str(result))\n",
    "except:\n",
    "    print('error...')"
   ]
  }
 ],
 "metadata": {
  "kernelspec": {
   "display_name": "Python 3",
   "language": "python",
   "name": "python3"
  },
  "language_info": {
   "codemirror_mode": {
    "name": "ipython",
    "version": 3
   },
   "file_extension": ".py",
   "mimetype": "text/x-python",
   "name": "python",
   "nbconvert_exporter": "python",
   "pygments_lexer": "ipython3",
   "version": "3.12.9"
  }
 },
 "nbformat": 4,
 "nbformat_minor": 2
}
