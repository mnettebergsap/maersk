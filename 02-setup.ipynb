{
 "cells": [
  {
   "cell_type": "code",
   "execution_count": null,
   "metadata": {},
   "outputs": [],
   "source": [
    "import hana_ml\n",
    "from hana_ml import dataframe as hdf\n",
    "from hana_ml.dataframe import create_dataframe_from_pandas\n",
    "import hdbcli\n",
    "\n",
    "# Import additional packages\n",
    "import pandas as pd\n",
    "import numpy as np\n",
    "import matplotlib.pyplot as plt\n",
    "\n",
    "print(hana_ml.__version__)\n",
    "\n",
    "print(f\"SAP HANA Client for Python: {hana_ml.__version__}\")"
   ]
  },
  {
   "cell_type": "code",
   "execution_count": null,
   "metadata": {},
   "outputs": [],
   "source": [
    "# Hana Cloud Connection\n",
    "\n",
    "from hana_ml import dataframe as hdf\n",
    "\n",
    "#host_address = input(\"Enter HANA Cloud Hostname\")\n",
    "#hdb_user = input(\"Enter Username\")\n",
    "#hdb_password = input(\"Enter Password :\")\n",
    "\n",
    "host_address = '085fe51f-540c-4b27-8523-3ff931c0674d.hana.prod-us10.hanacloud.ondemand.com'\n",
    "hdb_port = '443'\n",
    "hdb_user = 'AC171594U01'\n",
    "hdb_password = 'ObAxLMJSF21!'\n",
    "\n",
    "conn = hdf.ConnectionContext(\n",
    "    host_address,\n",
    "    port=hdb_port,\n",
    "    user=hdb_user,\n",
    "    password=hdb_password,\n",
    "    autocommit=True,\n",
    "    sslValidateCertificate=False,\n",
    ")\n"
   ]
  },
  {
   "cell_type": "markdown",
   "metadata": {},
   "source": [
    "## Test the connection."
   ]
  },
  {
   "cell_type": "code",
   "execution_count": null,
   "metadata": {},
   "outputs": [],
   "source": [
    "try:\n",
    "    result = conn.sql(\"SELECT NOW() FROM DUMMY\").collect().CURRENT_TIMESTAMP[0]\n",
    "    print('HANA connection succesfully established!')\n",
    "    print('Current time on the SAP HANA server:', str(result))\n",
    "except:\n",
    "    print('error...')"
   ]
  }
 ],
 "metadata": {
  "kernelspec": {
   "display_name": "Python 3",
   "language": "python",
   "name": "python3"
  },
  "language_info": {
   "codemirror_mode": {
    "name": "ipython",
    "version": 3
   },
   "file_extension": ".py",
   "mimetype": "text/x-python",
   "name": "python",
   "nbconvert_exporter": "python",
   "pygments_lexer": "ipython3",
   "version": "3.12.9"
  }
 },
 "nbformat": 4,
 "nbformat_minor": 2
}
